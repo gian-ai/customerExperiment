{
 "cells": [
  {
   "cell_type": "code",
   "execution_count": 1,
   "id": "1a2114eb-b33c-4ec3-b69f-3efd862e8d17",
   "metadata": {},
   "outputs": [],
   "source": [
    "import requests\n",
    "from google.auth.transport.requests import Request\n",
    "from google.oauth2 import service_account\n",
    "import pages.helpers.auth as auth\n",
    "import pandas as pd\n",
    "\n",
    "# Path to your service account key file\n",
    "SERVICE_ACCOUNT_FILE = 'pages/helpers/secrets/key.json'\n",
    "backend_auth = 'https://backend-auth-vmazoy5ygq-uc.a.run.app'\n",
    "events_public = 'https://events-public-vmazoy5ygq-uc.a.run.app'\n",
    "test_api = \"http://127.0.0.1:8000\"\n",
    "\n",
    "# Load the service account credentials\n",
    "credentials = service_account.IDTokenCredentials.from_service_account_file(\n",
    "    SERVICE_ACCOUNT_FILE,\n",
    "    target_audience=backend_auth\n",
    ")"
   ]
  },
  {
   "cell_type": "code",
   "execution_count": 2,
   "id": "bafd2299-e835-4d70-8b2a-3a92b7aafa8d",
   "metadata": {},
   "outputs": [],
   "source": [
    "# Test auth method on backend-auth\n",
    "def authTest_variableGenerators(owner: str):\n",
    "    token = auth.get_auth_idtoken(SERVICE_ACCOUNT_FILE)\n",
    "    url = f\"{backend_auth}/variablegenerators\"\n",
    "    payload = {\"owner\": owner}\n",
    "    headers = {\"Authorization\": f\"Bearer {token}\"}\n",
    "    \n",
    "    req = requests.get(url=url, params=payload, headers=headers)\n",
    "    print(f\"EXPECT SUCCESS: {req}\")\n",
    "\n",
    "# Test un-auth method on backend-auth\n",
    "def unauthTest_variableGenerators(owner: str):\n",
    "    token = auth.get_auth_idtoken(SERVICE_ACCOUNT_FILE)\n",
    "    url = f\"{backend_auth}/variablegenerators\"\n",
    "    payload = {\"owner\": owner}\n",
    "    \n",
    "    req = requests.get(url=url, params=payload)\n",
    "    print(f\"EXPECT FAIL: {req}\")\n",
    "\n",
    "# Test un-auth method on events-public\n",
    "def unauthTest_linkedInEvent(live:bool):\n",
    "    if not live: \n",
    "        backend = test_api\n",
    "    else:\n",
    "        backend = events_public\n",
    "    token = auth.get_auth_idtoken(SERVICE_ACCOUNT_FILE)\n",
    "    url = f\"{backend}/linkedInEvent\"\n",
    "    payload = {\"profileUrl\":\"unauthtest@test.com\", \n",
    "               \"postingDate\":\"yesterday\",\n",
    "               \"status\":\"SENT\"}\n",
    "    req = requests.post(url=url, json=payload)\n",
    "    print(f\"EXPECT SUCCESS: {req}\")\n",
    "    return req\n",
    "    \n",
    "# Test un-auth method on events-public\n",
    "def unauthTest_emailEvent(live:bool):\n",
    "    if not live: \n",
    "        backend = test_api\n",
    "    else:\n",
    "        backend = events_public\n",
    "    token = auth.get_auth_idtoken(SERVICE_ACCOUNT_FILE)\n",
    "    url = f\"{backend}/emailEvent\"\n",
    "    payload = {\"customerEmail\":\"unauthtest@test.com\", \n",
    "               \"postingDate\":\"yesterday\",\n",
    "               \"status\":\"SENT\"}\n",
    "    \n",
    "    req = requests.post(url=url, json=payload)\n",
    "    print(f\"EXPECT SUCCESS: {req}\")\n",
    "    return req\n"
   ]
  },
  {
   "cell_type": "code",
   "execution_count": 12,
   "id": "ccb0cbf6-960a-4e00-9e0e-7af4ff0e65f1",
   "metadata": {},
   "outputs": [],
   "source": [
    "owner=\"Mairim\""
   ]
  },
  {
   "cell_type": "code",
   "execution_count": 13,
   "id": "8eac054d-f219-4f55-8d19-fb592351f998",
   "metadata": {
    "scrolled": true
   },
   "outputs": [
    {
     "name": "stdout",
     "output_type": "stream",
     "text": [
      "EXPECT SUCCESS: <Response [200]>\n",
      "EXPECT FAIL: <Response [403]>\n"
     ]
    }
   ],
   "source": [
    "authTest_variableGenerators(owner)\n",
    "unauthTest_variableGenerators(owner)"
   ]
  },
  {
   "cell_type": "code",
   "execution_count": null,
   "id": "9afe1606-48e5-4122-b433-011c2214ac55",
   "metadata": {},
   "outputs": [],
   "source": [
    "r1 = unauthTest_linkedInEvent(True)\n",
    "r2 = unauthTest_emailEvent(True)"
   ]
  },
  {
   "cell_type": "code",
   "execution_count": null,
   "id": "c5c1f8a6-5b9f-4f13-b0b3-84f628395adb",
   "metadata": {},
   "outputs": [],
   "source": [
    "r2.text"
   ]
  },
  {
   "cell_type": "code",
   "execution_count": null,
   "id": "67eedb89-a442-4334-91df-4e4b37f13aca",
   "metadata": {},
   "outputs": [],
   "source": []
  }
 ],
 "metadata": {
  "kernelspec": {
   "display_name": "Python 3 (ipykernel)",
   "language": "python",
   "name": "python3"
  },
  "language_info": {
   "codemirror_mode": {
    "name": "ipython",
    "version": 3
   },
   "file_extension": ".py",
   "mimetype": "text/x-python",
   "name": "python",
   "nbconvert_exporter": "python",
   "pygments_lexer": "ipython3",
   "version": "3.10.6"
  }
 },
 "nbformat": 4,
 "nbformat_minor": 5
}
