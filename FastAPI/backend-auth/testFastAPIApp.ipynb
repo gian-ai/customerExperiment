{
 "cells": [
  {
   "cell_type": "code",
   "execution_count": 24,
   "id": "543ab9f8-f841-4661-a99b-861f3a440ecc",
   "metadata": {},
   "outputs": [],
   "source": [
    "import os\n",
    "import requests\n",
    "from pydantic import BaseModel\n",
    "from google.cloud import firestore\n",
    "import json"
   ]
  },
  {
   "cell_type": "code",
   "execution_count": 25,
   "id": "873eaabc-707f-408b-9a3d-b85ec24301c6",
   "metadata": {},
   "outputs": [
    {
     "name": "stdout",
     "output_type": "stream",
     "text": [
      "/home/schiller_gian/ai/Outbound/FastAPI\n"
     ]
    },
    {
     "data": {
      "text/plain": [
       "<google.cloud.firestore_v1.client.Client at 0x7fe210895780>"
      ]
     },
     "execution_count": 25,
     "metadata": {},
     "output_type": "execute_result"
    }
   ],
   "source": [
    "# db = firestore.Client(project='spatial-thinker-360216')\n",
    "db = firestore.Client(project='spatial-thinker-360216', database=\"email-test\")\n",
    "os.system(\"pwd\")\n",
    "db.from_service_account_json(\"./secrets/bigQuery.json\")"
   ]
  },
  {
   "cell_type": "code",
   "execution_count": 4,
   "id": "49886567-cc8a-4383-a8e8-422a0f3a1338",
   "metadata": {},
   "outputs": [],
   "source": [
    "doc_ref = db.collection(\"events\").get()"
   ]
  },
  {
   "cell_type": "code",
   "execution_count": 11,
   "id": "6665ba56-7a76-47b8-a91a-959905d8bc0d",
   "metadata": {},
   "outputs": [
    {
     "name": "stdout",
     "output_type": "stream",
     "text": [
      "{'platform': 'LinkedIn', 'invited_date_iso': '2024-06-26T21:37:41.407Z', 'email': None, 'profile_url': 'https://www.linkedin.com/in/cardioprotec/', 'last_received_message_send_at_iso': '2024-07-02T21:19:35.848Z', 'last_sent_message_send_at_iso': None, 'result_created_at_iso': None}\n"
     ]
    }
   ],
   "source": [
    "test_payload = doc_ref[0].to_dict()\n",
    "print(test_payload)"
   ]
  },
  {
   "cell_type": "code",
   "execution_count": 37,
   "id": "84aae4ae-819e-460f-b086-8459e81e6692",
   "metadata": {},
   "outputs": [],
   "source": [
    "r = requests.post(url=\"http://127.0.0.1:8000/linkedInEvent\", json=payload)"
   ]
  },
  {
   "cell_type": "code",
   "execution_count": 35,
   "id": "a1e9a7b0-d5f9-43b8-96c1-dd3741108851",
   "metadata": {},
   "outputs": [],
   "source": [
    "r = requests.post(url=\"http://0.0.0.0:8000/emailEvent\", json=payload)"
   ]
  },
  {
   "cell_type": "code",
   "execution_count": 36,
   "id": "5bec468a-125c-4f34-b2ab-f376aed7a6c7",
   "metadata": {},
   "outputs": [
    {
     "data": {
      "text/plain": [
       "'{\"customerEmail\":\"new@gmail.com\",\"postingDate\":\"today\",\"status\":\"sent\",\"platform\":\"Email\"}'"
      ]
     },
     "execution_count": 36,
     "metadata": {},
     "output_type": "execute_result"
    }
   ],
   "source": [
    "r.text"
   ]
  },
  {
   "cell_type": "code",
   "execution_count": 13,
   "id": "cbea8251-8056-4fb8-9459-88f14f2424fd",
   "metadata": {},
   "outputs": [],
   "source": [
    "class emailEvent(BaseModel):\n",
    "    platform: str\n",
    "    customerEmail: str | None = None\n",
    "    linkedInURL: str | None = None\n",
    "    postingDate: str | None = None\n",
    "    status: str | None = None"
   ]
  },
  {
   "cell_type": "code",
   "execution_count": 30,
   "id": "ab1060d4-0644-4604-ab62-1100834d5f1e",
   "metadata": {},
   "outputs": [],
   "source": [
    "payload = { \n",
    "    \"platform\":\"LinkedIn\",\n",
    "    \"customerEmail\":\"new@gmail.com\",\n",
    "    \"profile_url\":\"hello@linkedin.com\",\n",
    "    \"postingDate\":\"today\",\n",
    "    \"status\":\"sent\"\n",
    "}"
   ]
  },
  {
   "cell_type": "code",
   "execution_count": 15,
   "id": "ffbc1f2d-a50b-4805-ade3-61d87cd345e5",
   "metadata": {},
   "outputs": [
    {
     "data": {
      "text/plain": [
       "(DatetimeWithNanoseconds(2024, 7, 1, 16, 26, 4, 168332, tzinfo=datetime.timezone.utc),\n",
       " <google.cloud.firestore_v1.document.DocumentReference at 0x7f26f64e3190>)"
      ]
     },
     "execution_count": 15,
     "metadata": {},
     "output_type": "execute_result"
    }
   ],
   "source": [
    "db.collection(\"events\").add(payload)"
   ]
  },
  {
   "cell_type": "code",
   "execution_count": 15,
   "id": "ca3fc839-77aa-4a5e-a3b1-35ca76fa87ad",
   "metadata": {},
   "outputs": [
    {
     "data": {
      "text/plain": [
       "'{\"platform\": \"LinkedIn\", \"customerEmail\": \"new@gmail.com\", \"profile_url\": \"hello@linkedin.com\", \"postingDate\": \"today\", \"status\": \"sent\"}'"
      ]
     },
     "execution_count": 15,
     "metadata": {},
     "output_type": "execute_result"
    }
   ],
   "source": [
    "email = emailEvent(**payload)\n",
    "json.loads(email.json())\n",
    "json.dumps(payload)"
   ]
  },
  {
   "cell_type": "code",
   "execution_count": 23,
   "id": "1ea97b7d-14af-4952-96a2-7380c9d08937",
   "metadata": {},
   "outputs": [
    {
     "data": {
      "text/plain": [
       "<Response [200]>"
      ]
     },
     "execution_count": 23,
     "metadata": {},
     "output_type": "execute_result"
    }
   ],
   "source": [
    "# TESTING WITH STRING\n",
    "# requests.post(url=\"http://0.0.0.0:8000/emailEvent\", data=json.dumps(payload))\n",
    "\n",
    "# Testing with JSON\n",
    "requests.post(url=\"http://127.0.0.1:8000/linkedInEvent\", json=test_payload)\n",
    "# requests.post(url=\"http://0.0.0.0:8000/emailEvent\", json=payload)"
   ]
  },
  {
   "cell_type": "code",
   "execution_count": 41,
   "id": "6d2ef1b3-d176-415a-867f-1b3c7f9ca3dc",
   "metadata": {},
   "outputs": [],
   "source": [
    "params = {\"platform\":\"LinkedIn\"}\n",
    "r = requests.get(url=\"http://127.0.0.1:8000/customers\", params=params)"
   ]
  }
 ],
 "metadata": {
  "kernelspec": {
   "display_name": "Python 3 (ipykernel)",
   "language": "python",
   "name": "python3"
  },
  "language_info": {
   "codemirror_mode": {
    "name": "ipython",
    "version": 3
   },
   "file_extension": ".py",
   "mimetype": "text/x-python",
   "name": "python",
   "nbconvert_exporter": "python",
   "pygments_lexer": "ipython3",
   "version": "3.10.6"
  }
 },
 "nbformat": 4,
 "nbformat_minor": 5
}
