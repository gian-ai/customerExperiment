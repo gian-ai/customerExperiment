{
 "cells": [
  {
   "cell_type": "code",
   "execution_count": 5,
   "id": "543ab9f8-f841-4661-a99b-861f3a440ecc",
   "metadata": {},
   "outputs": [],
   "source": [
    "import os"
   ]
  },
  {
   "cell_type": "code",
   "execution_count": null,
   "id": "03d624a3-da6f-4d93-9e6f-c63a530eebf3",
   "metadata": {
    "scrolled": true
   },
   "outputs": [
    {
     "name": "stdout",
     "output_type": "stream",
     "text": [
      "/home/schiller_gian/ai/Outbound/Apps/FastAPI/backend-auth\n"
     ]
    },
    {
     "name": "stderr",
     "output_type": "stream",
     "text": [
      "INFO:     Will watch for changes in these directories: ['/home/schiller_gian/ai/Outbound/Apps/FastAPI/backend-auth']\n",
      "INFO:     Uvicorn running on http://127.0.0.1:8000 (Press CTRL+C to quit)\n",
      "INFO:     Started reloader process [41811] using statreload\n",
      "INFO:     Started server process [41813]\n",
      "INFO:     Waiting for application startup.\n",
      "INFO:     Application startup complete.\n"
     ]
    },
    {
     "name": "stdout",
     "output_type": "stream",
     "text": [
      "INFO:     127.0.0.1:47660 - \"GET / HTTP/1.1\" 200 OK\n",
      "INFO:     127.0.0.1:47660 - \"GET /favicon.ico HTTP/1.1\" 404 Not Found\n",
      "INFO:     127.0.0.1:47660 - \"GET /redoc HTTP/1.1\" 200 OK\n",
      "INFO:     127.0.0.1:47660 - \"GET /openapi.json HTTP/1.1\" 200 OK\n",
      "INFO:     127.0.0.1:44728 - \"GET /users?email=guest%40gmail.com&password=password HTTP/1.1\" 200 OK\n",
      "INFO:     127.0.0.1:54084 - \"GET /users?email=guest%40gmail.com&password=password HTTP/1.1\" 200 OK\n"
     ]
    }
   ],
   "source": [
    "os.system(\" pwd; uvicorn src.main:app --reload\")"
   ]
  },
  {
   "cell_type": "code",
   "execution_count": null,
   "id": "e124a44f-f75b-4245-9efe-bb3ee8725ce3",
   "metadata": {},
   "outputs": [],
   "source": []
  }
 ],
 "metadata": {
  "kernelspec": {
   "display_name": "Python 3 (ipykernel)",
   "language": "python",
   "name": "python3"
  },
  "language_info": {
   "codemirror_mode": {
    "name": "ipython",
    "version": 3
   },
   "file_extension": ".py",
   "mimetype": "text/x-python",
   "name": "python",
   "nbconvert_exporter": "python",
   "pygments_lexer": "ipython3",
   "version": "3.10.6"
  }
 },
 "nbformat": 4,
 "nbformat_minor": 5
}
