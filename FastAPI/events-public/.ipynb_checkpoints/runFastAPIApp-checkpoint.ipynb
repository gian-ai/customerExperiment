{
 "cells": [
  {
   "cell_type": "code",
   "execution_count": 1,
   "id": "543ab9f8-f841-4661-a99b-861f3a440ecc",
   "metadata": {},
   "outputs": [],
   "source": [
    "import os"
   ]
  },
  {
   "cell_type": "code",
   "execution_count": null,
   "id": "03d624a3-da6f-4d93-9e6f-c63a530eebf3",
   "metadata": {
    "scrolled": true
   },
   "outputs": [
    {
     "name": "stdout",
     "output_type": "stream",
     "text": [
      "/home/schiller_gian/ai/Outbound/Apps/FastAPI/events-public\n"
     ]
    },
    {
     "name": "stderr",
     "output_type": "stream",
     "text": [
      "sh: 1: cd: can't cd to FastAPI/\n",
      "INFO:     Will watch for changes in these directories: ['/home/schiller_gian/ai/Outbound/Apps/FastAPI/events-public']\n",
      "INFO:     Uvicorn running on http://127.0.0.1:8000 (Press CTRL+C to quit)\n",
      "INFO:     Started reloader process [1962] using statreload\n",
      "INFO:     Started server process [1965]\n",
      "INFO:     Waiting for application startup.\n",
      "INFO:     Application startup complete.\n"
     ]
    }
   ],
   "source": [
    "os.system(\"cd FastAPI/; pwd; uvicorn src.main:app --reload\")"
   ]
  }
 ],
 "metadata": {
  "kernelspec": {
   "display_name": "Python 3 (ipykernel)",
   "language": "python",
   "name": "python3"
  },
  "language_info": {
   "codemirror_mode": {
    "name": "ipython",
    "version": 3
   },
   "file_extension": ".py",
   "mimetype": "text/x-python",
   "name": "python",
   "nbconvert_exporter": "python",
   "pygments_lexer": "ipython3",
   "version": "3.10.6"
  }
 },
 "nbformat": 4,
 "nbformat_minor": 5
}
